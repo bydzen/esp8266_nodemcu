{
  "cells": [
    {
      "cell_type": "code",
      "execution_count": null,
      "metadata": {
        "colab": {
          "base_uri": "https://localhost:8080/"
        },
        "id": "Y5uwIQFw1q_n",
        "outputId": "a70a6375-ff24-41d5-82a1-080ba93ca4d0"
      },
      "outputs": [],
      "source": [
        "!pip3 install python-firebase\n",
        "!pip3 install firebase \n",
        "!pip3 install python_jwt\n",
        "!pip3 install gcloud\n",
        "!pip3 install sseclient\n",
        "!pip3 install pycrypto\n",
        "!pip3 install requests_toolbelt\n",
        "!pip3 install serial"
      ]
    },
    {
      "cell_type": "markdown",
      "metadata": {
        "id": "_OVie-G8iKUx"
      },
      "source": [
        "Membaca kelembapan"
      ]
    },
    {
      "cell_type": "code",
      "execution_count": null,
      "metadata": {
        "colab": {
          "base_uri": "https://localhost:8080/"
        },
        "id": "9tZR4Ddk3XjL",
        "outputId": "de4cf9f2-68c6-4389-d2d4-d03f38f49bdd"
      },
      "outputs": [],
      "source": [
        "from firebase import firebase\n",
        "firebaseURI = 'XXXXX'\n",
        "firebase = firebase.FirebaseApplication(firebaseURI, None)\n",
        "result = firebase.get('Logs/humidity/', None)\n",
        "print(result)"
      ]
    },
    {
      "cell_type": "markdown",
      "metadata": {
        "id": "qxGyPQAkcoOf"
      },
      "source": [
        "Menulis data ke Firebase menggunakan put (nama variabel manual)"
      ]
    },
    {
      "cell_type": "code",
      "execution_count": null,
      "metadata": {
        "colab": {
          "base_uri": "https://localhost:8080/"
        },
        "id": "8CmwrPASg3a7",
        "outputId": "d25703b2-f7a7-4eaf-a8e0-60ad367e5554"
      },
      "outputs": [],
      "source": [
        "from firebase import firebase\n",
        "firebase = firebase.FirebaseApplication(firebaseURI, None)\n",
        "new_user = 'User'\n",
        "# result = firebase.post('/users/', new_user, {'print': 'pretty'}, {'X_FANCY_HEADER': 'VERY FANCY'})\n",
        "result = firebase.put('/users','new', new_user)\n",
        "print(result)"
      ]
    },
    {
      "cell_type": "markdown",
      "metadata": {
        "id": "4O-tOf0zL-_n"
      },
      "source": [
        "Otomasi berbasis suhu terhadap led dan buzzer"
      ]
    },
    {
      "cell_type": "code",
      "execution_count": null,
      "metadata": {
        "colab": {
          "base_uri": "https://localhost:8080/",
          "height": 397
        },
        "id": "VSO5_o6mMBkd",
        "outputId": "d3b20cba-a3c6-42bf-ee8c-806381953a4d"
      },
      "outputs": [],
      "source": [
        "from firebase import firebase\n",
        "from IPython.display import clear_output\n",
        "import time\n",
        "\n",
        "firebase = firebase.FirebaseApplication(firebaseURI, None)\n",
        "while True:\n",
        "    suhu = firebase.get('dht11/temperature', None)\n",
        "    print(suhu)\n",
        "    if suhu > 29:\n",
        "      result = firebase.put('dht11/status/','buzzer', 1)\n",
        "      result = firebase.put('dht11/status/', 'led', 0)\n",
        "    elif suhu > 26 and suhu < 29:\n",
        "      result = firebase.put('dht11/status/','buzzer', 0)\n",
        "      result = firebase.put('dht11/status/', 'led', 0)\n",
        "    else:\n",
        "      result = firebase.put('dht11/status/','buzzer', 0)\n",
        "      result = firebase.put('dht11/status/', 'led', 1)\n",
        "    time.sleep(5)\n",
        "    clear_output()\n",
        "\n",
        "print(result)"
      ]
    },
    {
      "cell_type": "markdown",
      "metadata": {
        "id": "YT9uXuZmtsmf"
      },
      "source": [
        "monitoring suhu"
      ]
    },
    {
      "cell_type": "code",
      "execution_count": null,
      "metadata": {
        "colab": {
          "base_uri": "https://localhost:8080/",
          "height": 235
        },
        "id": "ZntvxplktpbD",
        "outputId": "d89126df-964d-4cc7-eaf7-2ae5f10373ae"
      },
      "outputs": [],
      "source": [
        "from firebase import firebase\n",
        "from IPython.display import clear_output\n",
        "\n",
        "import time\n",
        "firebase = firebase.FirebaseApplication(firebaseURI, None)\n",
        "while True:\n",
        "  suhu = firebase.get('dht11/temperature', None)\n",
        "  print(suhu)\n",
        "  time.sleep(1)\n",
        "  clear_output()"
      ]
    },
    {
      "cell_type": "markdown",
      "metadata": {
        "id": "CkcNXPOKFQDe"
      },
      "source": [
        "Prediksi dengan regresi linear "
      ]
    },
    {
      "cell_type": "code",
      "execution_count": null,
      "metadata": {
        "colab": {
          "base_uri": "https://localhost:8080/"
        },
        "id": "N02SeF3yFZma",
        "outputId": "df954172-006c-4166-8bb9-cb2dd38e6a88"
      },
      "outputs": [],
      "source": [
        "import numpy as np\n",
        "import time\n",
        "from firebase import firebase\n",
        "firebase = firebase.FirebaseApplication(firebaseURI, None)\n",
        "\n",
        "N = 5;\n",
        "SleepTime = 2;\n",
        "X = np.array([[1, 0, 0], [1, 0, 0], [1, 0, 0], [1, 0, 0], [1, 0, 0]], dtype=float)\n",
        "for n in range(N):\n",
        "  t = firebase.get('dht11/temperature', None)\n",
        "  h = firebase.get('dht11/humidity', None)\n",
        "  X[n]=[1, t, h]\n",
        "  time.sleep(SleepTime)\n",
        "print(X)\n",
        "\n",
        "t = firebase.get('dht11/temperature', None)\n",
        "h = firebase.get('dht11/humidity', None)\n",
        "time.sleep(SleepTime)\n",
        "y = np.array([[X[1, 1]], [X[2, 1]], [X[3, 1]], [X[4, 1]], [t]]);\n",
        "print(y)\n",
        "\n",
        "a = np.linalg.inv(np.transpose(X) @ X) @ np.transpose(X) @ y;\n",
        "print(a)\n",
        "\n",
        "t = firebase.get('dht11/temperature', None)\n",
        "h = firebase.get('dht11/humidity', None)\n",
        "x=np.array([[1], [t], [h]], dtype = float);\n",
        "time.sleep(SleepTime)\n",
        "\n",
        "t = firebase.get('dht11/temperature', None)\n",
        "h = firebase.get('dht11/humidity', None)\n",
        "ypred=np.transpose(a) @ x;\n",
        "yact=t;\n",
        "t_diff=ypred-yact;\n",
        "print('prediction')\n",
        "print(ypred)\n",
        "print('actual')\n",
        "print(yact)\n",
        "print('difference')\n",
        "print(t_diff)\n"
      ]
    },
    {
      "cell_type": "markdown",
      "metadata": {
        "id": "-Q2eFU4rvDzr"
      },
      "source": [
        "prediksi terus menerus"
      ]
    },
    {
      "cell_type": "code",
      "execution_count": null,
      "metadata": {
        "colab": {
          "base_uri": "https://localhost:8080/",
          "height": 321
        },
        "id": "-qmC2_2nvNRC",
        "outputId": "b08970a3-73f2-47b5-b0b6-9c61b107c407"
      },
      "outputs": [],
      "source": [
        "import numpy as np\n",
        "import time\n",
        "from firebase import firebase\n",
        "from IPython.display import clear_output\n",
        "\n",
        "firebase = firebase.FirebaseApplication(firebaseURI, None)\n",
        "\n",
        "N=10;\n",
        "SleepTime=2;\n",
        "X = np.ones((N, 3), dtype=float)\n",
        "for n in range(N):\n",
        "  t = firebase.get('dht11/temperature', None)\n",
        "  h = firebase.get('dht11/humidity', None)\n",
        "  X[n]=[1, t, h]\n",
        "  time.sleep(SleepTime)\n",
        "print(X)\n",
        "\n",
        "t = firebase.get('dht11/temperature', None)\n",
        "h = firebase.get('dht11/humidity', None)\n",
        "time.sleep(SleepTime)\n",
        "y = np.ones((N, 1), dtype = float)\n",
        "for n in range(N - 1):\n",
        "  y[n] = X[n+1, 1];\n",
        "y[N-1]=[t]\n",
        "print(y)\n",
        "\n",
        "a=np.linalg.inv(np.transpose(X) @ X) @ np.transpose(X) @ y;\n",
        "print(a)\n",
        "while True:\n",
        "  \n",
        "  t = firebase.get('dht11/temperature', None)\n",
        "  h = firebase.get('dht11/humidity', None)\n",
        "  x=np.array([[1],[t],[h]],dtype=float);\n",
        "  time.sleep(SleepTime)\n",
        "\n",
        "  t = firebase.get('dht11/temperature', None)\n",
        "  h = firebase.get('dht11/humidity', None)\n",
        "  ypred=np.transpose(a) @ x;\n",
        "  yact=t;\n",
        "  t_diff=ypred-yact;\n",
        "  print('prediction')\n",
        "  print(ypred)\n",
        "  print('actual')\n",
        "  print(yact)\n",
        "  print('difference')\n",
        "  print(t_diff)\n",
        "  time.sleep(SleepTime+2)\n",
        "  clear_output()\n"
      ]
    },
    {
      "cell_type": "markdown",
      "metadata": {
        "id": "TsIgsQR0vKKT"
      },
      "source": [
        "Regresi linear"
      ]
    },
    {
      "cell_type": "code",
      "execution_count": null,
      "metadata": {
        "colab": {
          "base_uri": "https://localhost:8080/"
        },
        "id": "ldtBGAdUpY46",
        "outputId": "7db61d28-1828-4a59-cff4-51dcea54ba38"
      },
      "outputs": [],
      "source": [
        "import numpy as np\n",
        "X = np.array([[1, 2, 3],[ 1, 1, 0],[ 1, 0, 1]])\n",
        "y=np.array([[2], [-1], [4]])\n",
        "a=np.linalg.inv(np.transpose(X) @ X) @ np.transpose(X) @ y;\n",
        "print(a)"
      ]
    },
    {
      "cell_type": "markdown",
      "metadata": {
        "id": "7AhWkHmyX763"
      },
      "source": [
        "input suhu"
      ]
    },
    {
      "cell_type": "code",
      "execution_count": null,
      "metadata": {
        "colab": {
          "base_uri": "https://localhost:8080/"
        },
        "id": "belKH8Iu5kOU",
        "outputId": "90cf338c-d418-441b-fdd2-8883aa1ae78a"
      },
      "outputs": [],
      "source": [
        "from firebase import firebase\n",
        "import datetime\n",
        "import time\n",
        "import serial\n",
        "\n",
        "# Create the connection to our Firebase database - don't forget to change the URL!\n",
        "FBConn = firebase.FirebaseApplication(firebaseURI, None)\n",
        "\n",
        "\n",
        "    # Ask the user to input a temperature\n",
        "temperature = int(input(\"What is the temperature? \"))\n",
        "    \n",
        "    # Create a dictionary to store the data before sending to the database\n",
        "data_to_upload = {\n",
        "        'Temp' : temperature\n",
        "    }\n",
        "\n",
        "    # Post the data to the appropriate folder/branch within your database\n",
        "result = FBConn.post('/MyTestData/',data_to_upload)\n",
        "\n",
        "    # Print the returned unique identifier\n",
        "print(result)\n",
        "\n",
        "# Close the serial connection\n"
      ]
    },
    {
      "cell_type": "code",
      "execution_count": null,
      "metadata": {
        "id": "93X_caHI1xgZ"
      },
      "outputs": [],
      "source": [
        "from firebase import firebase\n",
        "import datetime\n",
        "import time\n",
        "import serial\n",
        "\n",
        "# Create the connection to our Firebase database - don't forget to change the URL!\n",
        "FBConn = firebase.FirebaseApplication(firebaseURI, None)\n",
        "\n",
        "\n",
        "while True:\n",
        "    \n",
        "    # Ask the user to input a temperature\n",
        "    temperature = int(input(\"What is the temperature? \"))\n",
        "    \n",
        "    # Create a dictionary to store the data before sending to the database\n",
        "    data_to_upload = {\n",
        "        'Temp' : temperature\n",
        "    }\n",
        "\n",
        "    # Post the data to the appropriate folder/branch within your database\n",
        "    result = FBConn.post('/MyTestData/',data_to_upload)\n",
        "\n",
        "    # Print the returned unique identifier\n",
        "    print(result)\n",
        "\n",
        "# Close the serial connection\n",
        "ser.close()"
      ]
    },
    {
      "cell_type": "markdown",
      "metadata": {
        "id": "_O2v9pDEhrMS"
      },
      "source": [
        "Menulis data ke Firebase menggunakan post (nama variabel otomatis)"
      ]
    },
    {
      "cell_type": "code",
      "execution_count": null,
      "metadata": {
        "colab": {
          "base_uri": "https://localhost:8080/"
        },
        "id": "lSoUuoilhp6U",
        "outputId": "f69427af-d6f2-40a8-c8f0-9518eedf667e"
      },
      "outputs": [],
      "source": [
        "from firebase import firebase\n",
        "firebase = firebase.FirebaseApplication(firebaseURI, None)\n",
        "new_user = 'uray'\n",
        "# result = firebase.post('/users/', new_user, {'print': 'pretty'}, {'X_FANCY_HEADER': 'VERY FANCY'})\n",
        "result = firebase.post('/users', new_user)\n",
        "print(result)"
      ]
    },
    {
      "cell_type": "markdown",
      "metadata": {
        "id": "hvsCSMeehb98"
      },
      "source": [
        "Membaca data user berupa vektor"
      ]
    },
    {
      "cell_type": "code",
      "execution_count": null,
      "metadata": {
        "colab": {
          "base_uri": "https://localhost:8080/"
        },
        "id": "dhAck9eH7y8l",
        "outputId": "9883d477-06fa-4a82-8869-ccbaf92e2989"
      },
      "outputs": [],
      "source": [
        "from firebase import firebase\n",
        "firebase = firebase.FirebaseApplication(firebaseURI, None)\n",
        "result = firebase.get('dht11/t', None)\n",
        "print(result)"
      ]
    },
    {
      "cell_type": "markdown",
      "metadata": {
        "id": "ERbaEfhXX9zo"
      },
      "source": [
        "Menuliskan data dari input user berupa json menggunakan post"
      ]
    },
    {
      "cell_type": "code",
      "execution_count": null,
      "metadata": {
        "colab": {
          "base_uri": "https://localhost:8080/"
        },
        "id": "uQoPVRbhYZhY",
        "outputId": "726c87e8-4288-4848-b78d-01e9eb009196"
      },
      "outputs": [],
      "source": [
        "from firebase import firebase\n",
        "import datetime\n",
        "import time\n",
        "import serial\n",
        "\n",
        "\n",
        "FBConn = firebase.FirebaseApplication(firebaseURI, None)\n",
        "nilai = int(input(\"Masukkan nilai? \"))\n",
        "data_to_upload = {\n",
        "        'angka' : nilai\n",
        "    }\n",
        "result = FBConn.post('/ColabIoT/',data_to_upload)\n",
        "print(result)"
      ]
    }
  ],
  "metadata": {
    "colab": {
      "collapsed_sections": [],
      "name": "Tubes Firebase IoT.ipynb",
      "provenance": []
    },
    "kernelspec": {
      "display_name": "Python 3",
      "name": "python3"
    },
    "language_info": {
      "name": "python"
    }
  },
  "nbformat": 4,
  "nbformat_minor": 0
}
