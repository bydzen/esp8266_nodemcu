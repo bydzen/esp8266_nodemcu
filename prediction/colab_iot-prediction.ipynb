{
  "cells": [
    {
      "cell_type": "markdown",
      "metadata": {},
      "source": [
        "Instalasi library"
      ]
    },
    {
      "cell_type": "code",
      "execution_count": null,
      "metadata": {
        "id": "Y5uwIQFw1q_n"
      },
      "outputs": [],
      "source": [
        "!pip3 install python-firebase\n",
        "!pip3 install firebase \n",
        "!pip3 install python_jwt\n",
        "!pip3 install gcloud\n",
        "!pip3 install sseclient\n",
        "!pip3 install pycrypto\n",
        "!pip3 install requests_toolbelt\n",
        "!pip3 install serial"
      ]
    },
    {
      "cell_type": "markdown",
      "metadata": {
        "id": "_OVie-G8iKUx"
      },
      "source": [
        "Membaca inputan kelembaban dan suhu"
      ]
    },
    {
      "cell_type": "code",
      "execution_count": null,
      "metadata": {
        "id": "9tZR4Ddk3XjL"
      },
      "outputs": [],
      "source": [
        "from firebase import firebase\n",
        "firebaseURI = 'XXXXX'\n",
        "firebase = firebase.FirebaseApplication(firebaseURI, None)\n",
        "result = firebase.get('dht11/humidity/', None)\n",
        "print(result)\n",
        "result = firebase.get('dht11/temperature/', None)\n",
        "print(result)"
      ]
    },
    {
      "cell_type": "markdown",
      "metadata": {
        "id": "qxGyPQAkcoOf"
      },
      "source": [
        "Menulis data ke Firebase menggunakan put (nama variabel manual)"
      ]
    },
    {
      "cell_type": "code",
      "execution_count": null,
      "metadata": {
        "id": "8CmwrPASg3a7"
      },
      "outputs": [],
      "source": [
        "from firebase import firebase\n",
        "firebase = firebase.FirebaseApplication(firebaseURI, None)\n",
        "new_user = 'User'\n",
        "# result = firebase.post('/users/', new_user, {'print': 'pretty'}, {'X_FANCY_HEADER': 'VERY FANCY'})\n",
        "result = firebase.put('/users','new', new_user)\n",
        "print(result)"
      ]
    },
    {
      "cell_type": "markdown",
      "metadata": {
        "id": "4O-tOf0zL-_n"
      },
      "source": [
        "Otomasi berbasis suhu terhadap led dan buzzer"
      ]
    },
    {
      "cell_type": "code",
      "execution_count": null,
      "metadata": {
        "id": "VSO5_o6mMBkd"
      },
      "outputs": [],
      "source": [
        "from firebase import firebase\n",
        "from IPython.display import clear_output\n",
        "import time\n",
        "\n",
        "firebase = firebase.FirebaseApplication(firebaseURI, None)\n",
        "while True:\n",
        "    suhu = firebase.get('dht11/temperature', None)\n",
        "    print(suhu)\n",
        "    if  suhu < 23.8 and kelembaban > 67.6:\n",
        "      result = firebase.put('dht11/status/','buzzer', 1)\n",
        "      result = firebase.put('dht11/status/', 'led', 0)\n",
        "    elif suhu > 23.7 and kelembaban < 67.7:\n",
        "      result = firebase.put('dht11/status/','buzzer', 0)\n",
        "      result = firebase.put('dht11/status/', 'led', 0)\n",
        "    elif  suhu > 29.8 and kelembaban < 47.5:\n",
        "      result = firebase.put('dht11/status/','buzzer', 0)\n",
        "      result = firebase.put('dht11/status/', 'led', 1)\n",
        "    time.sleep(5)\n",
        "    clear_output()\n",
        "\n",
        "print(result)"
      ]
    },
    {
      "cell_type": "markdown",
      "metadata": {
        "id": "YT9uXuZmtsmf"
      },
      "source": [
        "Monitoring suhu"
      ]
    },
    {
      "cell_type": "code",
      "execution_count": null,
      "metadata": {
        "id": "ZntvxplktpbD"
      },
      "outputs": [],
      "source": [
        "from firebase import firebase\n",
        "from IPython.display import clear_output\n",
        "\n",
        "import time\n",
        "firebase = firebase.FirebaseApplication(firebaseURI, None)\n",
        "while True:\n",
        "  suhu = firebase.get('dht11/temperature', None)\n",
        "  print(suhu)\n",
        "  time.sleep(1)\n",
        "  clear_output()"
      ]
    },
    {
      "cell_type": "markdown",
      "metadata": {
        "id": "CkcNXPOKFQDe"
      },
      "source": [
        "Prediksi dengan regresi linear "
      ]
    },
    {
      "cell_type": "code",
      "execution_count": null,
      "metadata": {
        "id": "-qmC2_2nvNRC"
      },
      "outputs": [],
      "source": [
        "import numpy as np\n",
        "import time\n",
        "from firebase import firebase\n",
        "from IPython.display import clear_output\n",
        "\n",
        "firebase = firebase.FirebaseApplication(firebaseURI, None)\n",
        "\n",
        "hum = [67, 67, 67, 67, 67, 67, 68, 68, 68, 68, 68, 68, 68, 68, 68, 68, 68, 67,\n",
        "       67, 67, 66, 65, 65, 63, 62, 61, 59, 58, 56, 56, 55, 55, 53, 51, 51, 51,\n",
        "       50, 50, 50, 51, 51, 50, 49, 49, 48, 50, 51, 51, 52, 53, 53, 56, 55, 56,\n",
        "       56, 54, 57, 56, 56, 56, 55]\n",
        "tem = [23.8, 23.8, 23.8, 23.8, 23.8, 23.8, 23.8, 23.8, 23.8, 23.8, 23.8, 23.8,\n",
        "       23.8, 24.2, 24.2, 24.2, 24.2, 24.7, 24.7, 25.1, 25.1, 25.6, 25.6, 25.9,\n",
        "       26.1, 26.5, 26.9, 27.3, 27.3, 27.3, 27.8, 27.8, 28.2, 28.2, 28.8, 28.8,\n",
        "       28.8, 29.3, 29.3, 29.3, 29.3, 29.3, 29.8, 29.8, 29.3, 28.8, 28.8, 28.2,\n",
        "       27.8, 27.8, 27.8, 27.8, 28.2, 27.8, 27.9, 28.2, 27.3, 27.8, 27.3, 27.3,\n",
        "       27.8]\n",
        "\n",
        "N=60;\n",
        "SleepTime=0.5;\n",
        "X = np.ones((N, 3), dtype=float)\n",
        "for n in range(N):\n",
        "  t = tem[n]\n",
        "  h = hum[n]\n",
        "  X[n]=[1, h, t]\n",
        "  time.sleep(SleepTime)\n",
        "print(X)\n",
        "\n",
        "t = tem[n]\n",
        "h = hum[n]\n",
        "time.sleep(SleepTime)\n",
        "y = np.ones((N, 1), dtype = float)\n",
        "for n in range(N - 1):\n",
        "  y[n] = X[n+1, 1];\n",
        "y[N-1]=[t]\n",
        "print(y)\n",
        "\n",
        "a=np.linalg.inv(np.transpose(X) @ X) @ np.transpose(X) @ y;\n",
        "print(a)\n",
        "\n",
        "time.sleep(0)\n",
        "\n",
        "prediksiT = [N-1]\n",
        "\n",
        "for n in range(N-1):\n",
        "  \n",
        "  t = tem[n]\n",
        "  h = hum[n]\n",
        "  x=np.array([[1],[h],[t]],dtype=float);\n",
        "  time.sleep(SleepTime)\n",
        "\n",
        "  t = tem[n]\n",
        "  h = hum[n]\n",
        "  ypred=np.transpose(a) @ x;\n",
        "  yact=h;\n",
        "  t_diff=ypred-yact;\n",
        "  print('prediction')\n",
        "  print(ypred)\n",
        "  prediksiT.append(ypred)\n",
        "\n",
        "  print('actual')\n",
        "  print(yact)\n",
        "  print('difference')\n",
        "  print(t_diff)\n",
        "  time.sleep(SleepTime)\n",
        "  clear_output()\n",
        "\n",
        "print(prediksiT)\n"
      ]
    },
    {
      "cell_type": "markdown",
      "metadata": {
        "id": "TsIgsQR0vKKT"
      },
      "source": [
        "Regresi linear"
      ]
    },
    {
      "cell_type": "code",
      "execution_count": null,
      "metadata": {
        "id": "ldtBGAdUpY46"
      },
      "outputs": [],
      "source": [
        "import numpy as np\n",
        "X = np.array([[1, 2, 3],[ 1, 1, 0],[ 1, 0, 1]])\n",
        "y=np.array([[2], [-1], [4]])\n",
        "a=np.linalg.inv(np.transpose(X) @ X) @ np.transpose(X) @ y;\n",
        "print(a)"
      ]
    }
  ],
  "metadata": {
    "colab": {
      "collapsed_sections": [],
      "name": "Tubes Firebase IoT.ipynb",
      "provenance": []
    },
    "kernelspec": {
      "display_name": "Python 3",
      "name": "python3"
    },
    "language_info": {
      "name": "python"
    }
  },
  "nbformat": 4,
  "nbformat_minor": 0
}
